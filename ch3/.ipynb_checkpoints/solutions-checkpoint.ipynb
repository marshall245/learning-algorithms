{
 "cells": [
  {
   "cell_type": "markdown",
   "metadata": {},
   "source": [
    "# Chapter 3 Solutions"
   ]
  },
  {
   "cell_type": "markdown",
   "metadata": {},
   "source": [
    "#### 3.1-1\n",
    "Proof:  \n",
    "$max(f(n), g(n)) = \\Theta{(f(n) + g(n))}$\n",
    "\n",
    "For the sake of simplicity, we consider only n large enough so that f(n) and g(n) are\n",
    "non-negative, let $n_0$ be the lower bound that makes this so. Also, for brevity, \n",
    "let $max(f(n), g(n)) = h(n)$.\n",
    "\n",
    "$max(f(n), g(n)) = f(n) + g(n) - min(f(n), g(n))$\n",
    "\n",
    "So there certainly exist $C$ and $n_1$ s.t. if $n \\geq n_1 \\Rightarrow h(n) \\leq C(f(n) + g(n))$. Take $C = 1$ and $n_1 = n_0$, this works since $min(f(n), g(n)) \\geq 0$.\n",
    "\n",
    "$f(n) + g(n) \\leq 2max(f(n), g(n))$ for $n \\geq n_0$. Take $C = \\frac{1}{2}$ and $n_2 = n_0$."
   ]
  },
  {
   "cell_type": "markdown",
   "metadata": {},
   "source": [
    "#### 3.1-2\n",
    "Let the assumptions hold. Note first that $(n + a) ^ b \\geq 0$ for all $n \\geq n_0$ \n",
    "since $a$ is constant and $n$ is growing, ultimately $n > a$.\n",
    "\n",
    "$\\frac{(n + a)^b}{n^b} = (1 + \\frac{a}{n})^b$ let $n_1$ be a value in the natural numbers s.t. $|\\frac{a}{n}| < 1$ so that $\\epsilon < (1 + \\frac{a}{n})^b < 2^b$ for some $\\epsilon$.\n",
    "Choose $C_1 = \\epsilon$ and $C_2 = 2^b$ so that $C_1n^b < (n + a)^b < C_2n^b$ for all $n > n_14$."
   ]
  },
  {
   "cell_type": "markdown",
   "metadata": {},
   "source": [
    "#### 3.1-3\n",
    "Anything which is $O{(n^2)}$ is also $O(g(n))$ for any $g$ s.t. $\\lim_{n\\rightarrow\\infty}\\frac{n^2}{g(n)} = 0$. So \"at least\" is a silly statement."
   ]
  },
  {
   "cell_type": "markdown",
   "metadata": {},
   "source": [
    "#### 3.1-4\n",
    "$2^{n + 1} = 2*2^n = C*2^n$ so yes $2^{n + 1} = \\Theta{(2^n)}$.\n",
    "\n",
    "$2^{2n} = 2^n2^n$ so $\\lim_{n\\rightarrow\\infty}\\frac{2^{2n}}{2^n} = \\infty$."
   ]
  },
  {
   "cell_type": "markdown",
   "metadata": {},
   "source": [
    "#### 3.1-5\n",
    "Assume $f(n) = \\Theta{(g(n))}$ then there exist $C_1, C_2,$ and $n_0$ s.t. $\\forall n \\geq n_0, 0 \\leq C_1g(n) \\leq f(n) \\leq C_2g(n)$. Using $n_0$ and $C_1$ in the definition of $\\Omega{(g(n))}$, and using $n_0$ and $C_2$ in the definition of $O{(g(n))}$ we have our first result.\n",
    "\n",
    "Similarly, the proof of the converse proceeds trivially from the definitions of $O{(g(n))}$ and $\\Omega{(g(n))}$."
   ]
  },
  {
   "cell_type": "markdown",
   "metadata": {},
   "source": [
    "#### 3.1-6\n",
    "Label the best case and worst case runtimes $b(n)$ and $w(n)$ respectively, and any arbitrary runtime $r(n)$.\n",
    "\n",
    "Suppose our algorithms best case runtime is $\\Omega{(g(n)})$ and its worst case runtime is $O(g(n))$. There exist $C_1, C_2, n_1,$ and $n_2$, by the definitions of $\\Omega{(g(n)})$ and $O(g(n))$, that guaruntee for $n \\geq max(n_1, n_2) = n_0$ that \n",
    "\n",
    "$0 \\leq C_1g(n) \\leq b(n) \\leq r(n) \\leq w(n) \\leq C_2g(n)$\n",
    "\n",
    "Suppose our algorithm is $\\Theta{g(n)}$, then there exist $C_1, C_2,$ and $n_0$ s.t.\n",
    "\n",
    "$0 \\leq C_1g(n) \\leq r(n) \\leq C_2g(n), \\forall n \\geq n_0$\n",
    "\n",
    "but $b(n), w(n) \\in \\{r(n)\\}$ the possible runtimes of the algorithm. Using $C_1$ and $n_0$ in the definition of $\\Omega{(g(n))}$, and using $C_2$ and $n_0$ in the definition of $O(g(n)$. Gives us our result."
   ]
  },
  {
   "cell_type": "markdown",
   "metadata": {},
   "source": [
    "#### 3.1-7\n",
    "Let $f(n) = o(g(n))$ and $h(n) = \\omega(g(n))$. We intend to show $h(n) \\neq o(g(n))$ and $f(n) \\neq \\omega(g(n))$.\n",
    "\n",
    "$\\exists n_0$ s.t. $\\forall C, \\forall n \\geq n_0, f(n) \\leq Cg(n)$ necessarily $\\nexists n_1$ s.t. $\\forall C \\forall n \\geq n_1, f(n) \\geq g(n) \\geq 0$. So, $f(n) \\neq \\omega{(g(n))}$.\n",
    "\n",
    "A similar argument finishes the proof."
   ]
  },
  {
   "cell_type": "markdown",
   "metadata": {
    "collapsed": true
   },
   "source": [
    "#### 3.1-8\n",
    "skipped"
   ]
  },
  {
   "cell_type": "markdown",
   "metadata": {},
   "source": [
    "#### 3.2-1\n",
    "For the following arguments suppose $f$ and $g$ are monotonically increasing functions of n. And let let $n \\geq m$.\n",
    "\n",
    "(a) $f(n) \\geq f(m)$ and $g(n) \\geq g(m)$. So that simply adding gives us $f(n) + g(n) \\geq f(m) + g(m)$.\n",
    "\n",
    "(b) by our assumptions on $n$ and $m$ $f(n) \\geq f(m)$. Let $f(n) = n_0$ and $f(m) = n_0$ so that $n_0 > m_0$. Then $g(n_0) \\geq g(m_0)$, that is $g(f(n)) \\geq g(f(m))$.\n",
    "\n",
    "(c) In addition to our previous assumptions, suppose f(n) and g(n) both have range $[0, \\infty)$. Then our result holds simply by multiplying $f(n) \\geq f(m)$ on the left by $g(n)$ and on the left by $g(m)$ and noting that, by the properties of real numbers, the inequality holds."
   ]
  },
  {
   "cell_type": "markdown",
   "metadata": {},
   "source": [
    "#### 3.2-2\n",
    "$\\log_{b}{(c)}\\log_{b}{(a)} = \\log_{b}{(c)}\\log_{b}{(a)} \\iff$\n",
    "\n",
    "$\\log_{b}{(a)}^{\\log_{b}{(c)}} = \\log_{b}{(c)}^{\\log_{b}{(a)}} \\iff$\n",
    "\n",
    "$b^{\\log_{b}{(a)}^{\\log_{b}{(c)}}} = b^{\\log_{b}{(c)}^{\\log_{b}{(a)}}} \\iff$\n",
    "\n",
    "$a^{\\log_{b}{(c)}} = c^{\\log_{b}{(a)}}$"
   ]
  },
  {
   "cell_type": "markdown",
   "metadata": {},
   "source": [
    "#### 3.2-3\n",
    "(a) Take n large enough relative to make the $\\Theta{(\\frac{1}{n})}$ portion of Sterling's formula negligable and write $n! = \\sqrt{2 \\pi n}(\\frac{n}{e})^n$. Then\n",
    "\n",
    "$\\lg(n!) = n\\lg{(n)} - n\\lg{(e)} + \\frac{1}{2}\\lg{(n)} + C_0$ and thus we see that $\\lim_{n \\rightarrow \\infty}{\\frac{\\lg{(n!)}}{n\\lg{(n)}}} = 1$.\n",
    "\n",
    "By the definition of the limit $\\exists \\epsilon_0, n_0$ s.t. if $n \\geq n_0$ then $\\left|{\\frac{\\lg{(n!)}}{n\\lg{(n)}}} - 1\\right| < \\epsilon_0$ or \n",
    "\n",
    "$1 - \\epsilon_0 < \\frac{\\lg{(n!)}}{n\\lg{(n)}} < 1 + \\epsilon_0$\n",
    "\n",
    "$(1 - \\epsilon_0)n\\lg{(n)} < \\lg{(n!)} < (1 + \\epsilon_0)n\\lg{(n)}$\n",
    "\n",
    "so that $\\lg{(n!)} = \\Theta{(n\\lg(n))}$ \n",
    "\n",
    "(b) For large $n$, $n! = \\sqrt{(2 \\pi n)} \\left( \\frac{n}{e} \\right)^n$ now suppose $C > 0$ is given. Then $0 \\leq C2^n < \\sqrt{(2 \\pi n)} \\left( \\frac{n}{e} \\right)^n$ if we choose any $n_0 \\geq max(6, C^2)$ so that $\\frac{n}{e} > 2$ and $\\sqrt{(2 \\pi n)} > C$.\n",
    "\n",
    "(c) Again supose $C > 0$ is given. Obviously there exists an $n_0$ s.t. the following inequality holds for all $n \\geq n_0$, $\\sqrt{(2 \\pi n)} \\left( \\frac{1}{e} \\right)^n < C$. Multiplying by $n^n$ gives our result."
   ]
  },
  {
   "cell_type": "markdown",
   "metadata": {},
   "source": [
    "#### 3.2-4\n",
    "skipped"
   ]
  },
  {
   "cell_type": "markdown",
   "metadata": {},
   "source": [
    "#### 3.2-5\n",
    "skipped"
   ]
  },
  {
   "cell_type": "markdown",
   "metadata": {},
   "source": [
    "#### 3.2-6\n",
    "(a)\n",
    "$\\left(\\frac{1 + \\sqrt{5}}{2}\\right)^2 - \\frac{1 + \\sqrt{5}}{2} - 1 =$\n",
    "\n",
    "$\\frac{6 + 2\\sqrt{5}}{4} - \\frac{1 + \\sqrt{5}}{2} - 1 =$\n",
    "\n",
    "$1 + \\frac{2 + 2\\sqrt{5}}{4} - \\frac{1 + \\sqrt{5}}{2} - 1 =$\n",
    "\n",
    "$0$\n",
    "\n",
    "(b)\n",
    "$\\left(\\frac{1 - \\sqrt{5}}{2}\\right)^2 - \\frac{1 - \\sqrt{5}}{2} - 1 =$\n",
    "\n",
    "$\\frac{6 - 2\\sqrt{5}}{4} - \\frac{1 - \\sqrt{5}}{2} - 1 =$\n",
    "\n",
    "$1 + \\frac{2 - 2\\sqrt{5}}{4} - \\frac{1 - \\sqrt{5}}{2} - 1 =$\n",
    "\n",
    "$0$\n"
   ]
  },
  {
   "cell_type": "markdown",
   "metadata": {},
   "source": [
    "#### 3.2-7\n",
    "Let $T_n = \\frac{\\phi^n - \\hat{\\phi}^n}{\\sqrt{5}}$ and $S = \\left\\{n: F_n = T_n\\right\\}$\n",
    "\n",
    "1 is in $S$ since, $T_1 = 1 = F_1$. Likewise, $F_2$ is in $S$.\n",
    "\n",
    "Let $k - 2, k - 1$ be in $S$, then $F_k = F_{k - 1} + F_{k - 2} = T_{k - 1} + T_{k - 2} = \\frac{\\phi^{k - 1} - \\hat{\\phi}^{k - 1}}{\\sqrt{5}} + \\frac{\\phi^{k - 2} - \\hat{\\phi}^{k - 2}}{\\sqrt{5}} =$\n",
    "\n",
    "$\\frac{\\phi^{k - 2}(\\phi + 1) - \\hat{\\phi}^{k - 2}(\\hat{\\phi} + 1)}{\\sqrt{5}} = \\frac{\\phi^{k - 2}\\phi^2 - \\hat{\\phi}^{k - 2}\\hat{\\phi}^2}{\\sqrt{5}} = \\frac{\\phi^k - \\hat{\\phi}^k}{\\sqrt{5}}$\n",
    "\n",
    "So $k$ is in $S$ and we conclude that $S = \\mathbb{N}$."
   ]
  },
  {
   "cell_type": "markdown",
   "metadata": {},
   "source": [
    "#### 3-1\n",
    "Let $q_n = \\sum_{i = 0}^{d}a_{i}\\frac{n^{i}}{n^{k}}$. We will use this quantity throughout.\n",
    "\n",
    "(a) We know that if $d \\leq k$ then $\\lim_{n \\rightarrow \\infty}q(n) = C$ a constant. Actually $q \\in \\{a_d, 0\\}$, but it being a constant is all we need. By the definition of limit the following holds, $\\forall \\epsilon > 0$ $\\exists n_0$ s.t. $\\forall n \\geq n_0$ $\\left|\\sum_{i = 0}^{d}a_{i}\\frac{n^{i}}{n^{k}} - C \\right| < \\epsilon$.\n",
    "\n",
    "So that $\\sum_{i = 0}^{d}a_{i}n^{i} < (C + \\epsilon) n^{k}$\n",
    "\n",
    "(c) Still using the arguments from (a) above, suppose that $C = a_d$ as is the case when $k = d$. $(a_d - \\epsilon) n^{k} < \\sum_{i = 0}^{d}a_{i}n^{i} < (a_d + \\epsilon) n^{k}$. Since $\\epsilon$ may be chosen arbitrarily small $a_d - \\epsilon > 0$\n",
    "\n",
    "(b) Now suppose $k \\leq d$. In the case where $k = d$ we have already shown our result. Suppose $k < d$. $\\lim_{n \\rightarrow \\infty}q(n) = \\infty$ and by definition this means $\\forall M > 0 \\exists n_0$ s.t. $\\forall n \\geq n_0$ $\\sum_{i = 0}^{d}a_{i}\\frac{n^{i}}{n^{k}} > M$ so that $\\sum_{i = 0}^{d}a_{i}n^{i} > Mn^{k}$. This actually proves results (b) and (e).\n",
    "\n",
    "(d) Suppose $k < d$. Then the limit in (a) is 0. $\\forall \\epsilon > 0$ $\\exists n_0$ s.t. $\\forall n \\geq n_0$ $\\sum_{i = 0}^{d}a_{i}n^{i} < \\epsilon n^{k}$ but for large n the sum is greater than zero as well since $a_d$ is positive, so we have owr result."
   ]
  },
  {
   "cell_type": "markdown",
   "metadata": {},
   "source": [
    "#### 3-2\n",
    "\n",
    "| A, B                     | $O$ | $o$ | $\\Omega$ | $\\omega$ | $\\Theta$ |  \n",
    "|--------------------------|-----|-----|----------|----------|----------|\n",
    "| $\\lg^k{n}$, $n^{\\epsilon}$ |yes|yes|no|no|no|\n",
    "| $n^k$, $c^n$ |yes|yes|no|no|no|\n",
    "| $\\sqrt{n}$, $n \\sin{n}$ |no|no|no|no|no|\n",
    "| $2^n$, $2^{\\frac{n}{2}}$ |no|no|yes|yes|no|\n",
    "| $n^{\\lg c}$, $c^{\\lg n}$ |yes|no|yes|no|yes|\n",
    "| $\\lg{n!}$, $\\lg{n^n}$ |yes|no|yes|no|yes|"
   ]
  },
  {
   "cell_type": "markdown",
   "metadata": {
    "collapsed": true
   },
   "source": [
    "#### 3-3\n",
    "(1) $1$  \n",
    "(2) $\\lg{\\lg^*{n}}$  \n",
    "(3) $\\lg^*{n}$, $\\lg^*{\\lg{n}}$  \n",
    "    * I assume the last application of lg(...) never takes place in the latter and these actually return the same value\n",
    "(4) $2^{\\lg^*{n}}$  \n",
    "(5) $\\ln{\\ln{n}}$  \n",
    "(6) $\\sqrt{\\lg{n}}$  \n",
    "(7) $2^{\\sqrt{2\\lg{n}}}$, $n^\\frac{1}{\\lg{n}}$\n",
    "    * numerically the difference of these functions appears to converge to a constant\n",
    "(8) $\\ln{n}$  \n",
    "(9) $\\lg^2{n}$  \n",
    "(10) $(\\sqrt{2})^{\\lg{n}}$  \n",
    "(11) $2^{\\lg{n}}$, $n$  \n",
    "(12) $\\lg{n!}$  \n",
    "(13) $n\\lg{n}$  \n",
    "(14) $(\\lg{n})!$  \n",
    "(15) $n^{\\lg{\\lg{n}}}$  \n",
    "(16) $n^2$, $4^{\\lg{n}}$  \n",
    "(17) $n^3$; $\\frac{3}{2}^n$  \n",
    "(18) $2^{n}$  \n",
    "(19) $e^n$  \n",
    "(20) $n2^n$  \n",
    "(21) $n!$  \n",
    "(22) (n + 1)!  \n",
    "(23) $2^{2^n}$  \n",
    "(24) $2^{2^{n + 1}}$"
   ]
  },
  {
   "cell_type": "markdown",
   "metadata": {},
   "source": [
    "#### 3-4"
   ]
  },
  {
   "cell_type": "markdown",
   "metadata": {},
   "source": [
    "(a) False; consider the functions $f(n) = n^2$ and $g(n) = n^3$\n",
    "\n",
    "(b) False; consider the functions $f(n) = n$ and $g(n) = 1$\n",
    "\n",
    "(c) True, proof below.\n",
    "\n",
    "(d) False, consider $f(n) = n$ and $g(n) = \\frac{n}{2}$.\n",
    "\n",
    "(e) False; consider $f(n) = e^{-n}$\n",
    "\n",
    "(f) True, proof below.\n",
    "\n",
    "(g) False, consider $f(n) = e^n$\n",
    "\n",
    "(h) True, proof below."
   ]
  },
  {
   "cell_type": "markdown",
   "metadata": {},
   "source": [
    "proof of (c): \n",
    "    \n",
    "Let the assumptions hold, so that $\\exists C, N_0$ s.t. $\\forall n \\geq N_0$, $f(n) \\leq Cg(n)$. Let's take the max of $N_0$ and the $N_1$ guarunteeing that $\\lg{g(n)} \\geq 1$ to be $N_2$.Then for $n \\geq N_2$, $\\lg{f(n)} \\leq \\lg{Cg(n)} = \\lg{C} + \\lg{g(n)}$. Choosing any constant $C_0$ s.t. $C_0 > C + 1$ leaves us with $\\lg{C} + \\lg{g(n)} \\leq C_0\\lg{g(n)}$. "
   ]
  },
  {
   "cell_type": "markdown",
   "metadata": {},
   "source": [
    "proof of (f):\n",
    "    \n",
    "Let the assumptions hold, so that $\\exists C_0, N_0$ s.t. $\\forall n \\geq N_0$, $f(n) \\leq Cg(n)$. Choosing $N = N_0$ and $C = \\frac{1}{C_0}$ in the argument for $g(n) = \\Omega{(g(n))}$ gives us our result."
   ]
  },
  {
   "cell_type": "markdown",
   "metadata": {},
   "source": [
    "The proof of (h) is similarly trivial proceeding from the definitions in the assumptions directly."
   ]
  },
  {
   "cell_type": "markdown",
   "metadata": {},
   "source": [
    "#### 3-5\n",
    "skipped"
   ]
  },
  {
   "cell_type": "markdown",
   "metadata": {},
   "source": [
    "#### 3-6\n",
    "skipped"
   ]
  }
 ],
 "metadata": {
  "kernelspec": {
   "display_name": "Python 2",
   "language": "python",
   "name": "python2"
  },
  "language_info": {
   "codemirror_mode": {
    "name": "ipython",
    "version": 2
   },
   "file_extension": ".py",
   "mimetype": "text/x-python",
   "name": "python",
   "nbconvert_exporter": "python",
   "pygments_lexer": "ipython2",
   "version": "2.7.12"
  }
 },
 "nbformat": 4,
 "nbformat_minor": 1
}
