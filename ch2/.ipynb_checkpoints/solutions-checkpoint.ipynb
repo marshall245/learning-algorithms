{
 "cells": [
  {
   "cell_type": "markdown",
   "metadata": {},
   "source": [
    "# Chapter 2 Solutions"
   ]
  },
  {
   "cell_type": "markdown",
   "metadata": {},
   "source": [
    "### imports"
   ]
  },
  {
   "cell_type": "code",
   "execution_count": 1,
   "metadata": {
    "collapsed": true
   },
   "outputs": [],
   "source": [
    "from numpy import inf, floor\n",
    "from numpy.random import random"
   ]
  },
  {
   "cell_type": "markdown",
   "metadata": {},
   "source": [
    "### In Chapter"
   ]
  },
  {
   "cell_type": "markdown",
   "metadata": {},
   "source": [
    "#### 2.1-1\n",
    "In preference to diagramming, we just code the algorithm."
   ]
  },
  {
   "cell_type": "code",
   "execution_count": 2,
   "metadata": {
    "collapsed": true
   },
   "outputs": [],
   "source": [
    "def sort(arr):\n",
    "    \"\"\"arr is a mutable array of objects with inequalities defined\"\"\"\n",
    "    for i in range(1, len(arr)):\n",
    "        key = arr[i]\n",
    "        j = i - 1\n",
    "        while (j > -1) and (arr[j] > key):\n",
    "            arr[j + 1] = arr[j]\n",
    "            j = j - 1\n",
    "        arr[j + 1] = key\n",
    "    return arr"
   ]
  },
  {
   "cell_type": "markdown",
   "metadata": {},
   "source": [
    "Test"
   ]
  },
  {
   "cell_type": "code",
   "execution_count": 3,
   "metadata": {
    "collapsed": false
   },
   "outputs": [
    {
     "data": {
      "text/plain": [
       "[1, 2, 4, 5, 6]"
      ]
     },
     "execution_count": 3,
     "metadata": {},
     "output_type": "execute_result"
    }
   ],
   "source": [
    "sort([4, 5, 2, 6, 1])"
   ]
  },
  {
   "cell_type": "markdown",
   "metadata": {},
   "source": [
    "#### 2.1-2"
   ]
  },
  {
   "cell_type": "code",
   "execution_count": 4,
   "metadata": {
    "collapsed": false
   },
   "outputs": [],
   "source": [
    "def sort_extended(arr, reverse=False):\n",
    "    relation = lambda a, b: a > b\n",
    "    if reverse:\n",
    "        relation = lambda a, b: a < b\n",
    "    for i in range(1, len(arr)):\n",
    "        key = arr[i]\n",
    "        j = i - 1\n",
    "        while (j > -1) and (relation(arr[j], key)):\n",
    "            arr[j + 1] = arr[j]\n",
    "            j = j - 1\n",
    "        arr[j + 1] = key\n",
    "    return arr"
   ]
  },
  {
   "cell_type": "markdown",
   "metadata": {},
   "source": [
    "Test"
   ]
  },
  {
   "cell_type": "code",
   "execution_count": 5,
   "metadata": {
    "collapsed": true
   },
   "outputs": [],
   "source": [
    "lst = [3, 55, 6, 4, 9, 1]"
   ]
  },
  {
   "cell_type": "code",
   "execution_count": 6,
   "metadata": {
    "collapsed": false
   },
   "outputs": [
    {
     "data": {
      "text/plain": [
       "[1, 3, 4, 6, 9, 55]"
      ]
     },
     "execution_count": 6,
     "metadata": {},
     "output_type": "execute_result"
    }
   ],
   "source": [
    "sort_extended(lst)"
   ]
  },
  {
   "cell_type": "code",
   "execution_count": 7,
   "metadata": {
    "collapsed": false
   },
   "outputs": [
    {
     "data": {
      "text/plain": [
       "[55, 9, 6, 4, 3, 1]"
      ]
     },
     "execution_count": 7,
     "metadata": {},
     "output_type": "execute_result"
    }
   ],
   "source": [
    "sort_extended(lst, reverse=True)"
   ]
  },
  {
   "cell_type": "markdown",
   "metadata": {},
   "source": [
    "#### 2.1-3"
   ]
  },
  {
   "cell_type": "code",
   "execution_count": 8,
   "metadata": {
    "collapsed": true
   },
   "outputs": [],
   "source": [
    "def linsearch(arr, matchitem):\n",
    "    \"\"\"python is 0 indexed\"\"\"\n",
    "    for i in range(len(arr)):\n",
    "        if arr[i] == matchitem:\n",
    "            return i\n",
    "    return None"
   ]
  },
  {
   "cell_type": "markdown",
   "metadata": {},
   "source": [
    "Test"
   ]
  },
  {
   "cell_type": "code",
   "execution_count": 9,
   "metadata": {
    "collapsed": false
   },
   "outputs": [
    {
     "name": "stdout",
     "output_type": "stream",
     "text": [
      "<type 'NoneType'>\n"
     ]
    }
   ],
   "source": [
    "val = linsearch(['a', 'b', 'c'], 'i')\n",
    "print(type(val))"
   ]
  },
  {
   "cell_type": "code",
   "execution_count": 10,
   "metadata": {
    "collapsed": false
   },
   "outputs": [
    {
     "data": {
      "text/plain": [
       "2"
      ]
     },
     "execution_count": 10,
     "metadata": {},
     "output_type": "execute_result"
    }
   ],
   "source": [
    "linsearch(['j', 't', ':)'], ':)')"
   ]
  },
  {
   "cell_type": "markdown",
   "metadata": {},
   "source": [
    "Loop invariant (linsearch):\n",
    "    - At the start of each iteration, the sub array arr[0 to j-1] consists of \n",
    "        items not equal to matchval. The sub array[j + 1 to len(arr)] is unchecked. \n",
    "        Element arr[j] may equal matchval in which case we halt.\n",
    "    \n",
    "    initailization:\n",
    "        At the outset arr[0 to j - 1] is empty and is thus unchecked, \n",
    "        while arr[1 to len(arr)] is all but the first elemnts of arr which \n",
    "        will be unchecked. arr[j] is arr[0], if this equals matchval we stop.\n",
    "    \n",
    "    maintnance:\n",
    "        If we have already matched to matchval we have returned j and thus \n",
    "        halted. Otherwise arr[0 to j - 1] is unmatched, arr[j] is compared, \n",
    "        and arr[j + 1 to len(arr)] is unchecked.\n",
    "            \n",
    "    halting:\n",
    "        We terminate if we match at any point or if we exceed len(arr). Since \n",
    "        we are begining at 0 and increasing by one each iteration, we know \n",
    "        we will terminate since len(arr) is a positive integer. More over since \n",
    "        any match causes the index of the matched value to be returned and since\n",
    "        None is returned if len(arr) is exceeded prior to match and these are the\n",
    "        only ways to halt we will terminate with the correct value."
   ]
  },
  {
   "cell_type": "markdown",
   "metadata": {},
   "source": [
    "#### 2.1-4"
   ]
  },
  {
   "cell_type": "code",
   "execution_count": 11,
   "metadata": {
    "collapsed": false
   },
   "outputs": [],
   "source": [
    "def binadd(arr1, arr2):\n",
    "    bound = len(arr1)\n",
    "    retarr = [None] * (bound + 1)\n",
    "    x1 = 0\n",
    "    \n",
    "    i = bound - 1\n",
    "    while i > -1:\n",
    "        summ = arr1[i] + arr2[i] + x1\n",
    "        if summ % 2 == 1:\n",
    "            retarr[i + 1] = 1\n",
    "        else:\n",
    "            retarr[i + 1] = 0\n",
    "        x1 = 0\n",
    "        if summ > 1:\n",
    "            x1 = 1\n",
    "        i -= 1\n",
    "    retarr[i + 1]  = x1\n",
    "    return retarr\n",
    "\n",
    "def showbin(binarr):\n",
    "    mapped = map(lambda a: str(a), binarr)\n",
    "    print(''.join(mapped))"
   ]
  },
  {
   "cell_type": "markdown",
   "metadata": {},
   "source": [
    "Test"
   ]
  },
  {
   "cell_type": "code",
   "execution_count": 12,
   "metadata": {
    "collapsed": false
   },
   "outputs": [],
   "source": [
    "binarr = binadd([0, 1, 1], [0, 0, 1])"
   ]
  },
  {
   "cell_type": "code",
   "execution_count": 13,
   "metadata": {
    "collapsed": false
   },
   "outputs": [
    {
     "name": "stdout",
     "output_type": "stream",
     "text": [
      "0100\n"
     ]
    }
   ],
   "source": [
    "showbin(binarr)"
   ]
  },
  {
   "cell_type": "markdown",
   "metadata": {},
   "source": [
    "#### 2.2-1"
   ]
  },
  {
   "cell_type": "markdown",
   "metadata": {},
   "source": [
    "$$\\frac{n^3}{1000} + 100n^2 + 100n + 3 \\sim \\Theta{(n^3)}$$"
   ]
  },
  {
   "cell_type": "markdown",
   "metadata": {},
   "source": [
    "#### 2.2-2"
   ]
  },
  {
   "cell_type": "code",
   "execution_count": 14,
   "metadata": {
    "collapsed": false
   },
   "outputs": [],
   "source": [
    "def selection_sort(arr):\n",
    "    bound = len(arr)\n",
    "    \n",
    "    for i in range(bound - 1):\n",
    "        tmp = arr[i]\n",
    "        ix = i\n",
    "        for j in range(i + 1, bound):\n",
    "            if arr[j] < arr[ix]:\n",
    "                ix = j\n",
    "        arr[i] = arr[ix]\n",
    "        arr[ix] = tmp\n",
    "    return arr"
   ]
  },
  {
   "cell_type": "markdown",
   "metadata": {},
   "source": [
    "Test"
   ]
  },
  {
   "cell_type": "code",
   "execution_count": 15,
   "metadata": {
    "collapsed": false
   },
   "outputs": [
    {
     "data": {
      "text/plain": [
       "[1, 2, 3, 5, 6, 7]"
      ]
     },
     "execution_count": 15,
     "metadata": {},
     "output_type": "execute_result"
    }
   ],
   "source": [
    "selection_sort([5, 6, 3, 1, 7, 2])"
   ]
  },
  {
   "cell_type": "markdown",
   "metadata": {},
   "source": [
    "Loop invariant (selection sort):\n",
    "\n",
    "    At the start of each loop arr[0 .. i - 1] contains the smallest elements in\n",
    "    arr in sorted order. arr[i .. n] are as yet unsorted and contain all the elements\n",
    "    off arr which are >= the last element in arr[0 .. i - 1].\n",
    "    \n",
    "    initialization:\n",
    "        when i = 0 arr[0 to -1] is undefined and empty, thus trivially it contains \n",
    "        no number greater than any other in arr[i .. n] and is also trivially ordered.\n",
    "        Placing the least element of arr in arr[0] again leaves arr[0 .. 0] \n",
    "        trivially ordered and by definition the least element is less than all \n",
    "        elements in arr[1 .. n].\n",
    "       \n",
    "    maintnance:\n",
    "        On a given iteration, we assume arr[0 .. i - 2] and arr[i - 1 .. n] \n",
    "        in correct order. We select the smallest element, say arr[k], of arr[i - 1 .. n]\n",
    "        and place it into the i - 1 location and place the element at arr[i - 1] \n",
    "        into the k location, k > i - 1. Since arr[i - 1 .. n] contains \n",
    "        elements greater than or equal to those of arr[0 .. i - 2], arr[0 .. i - 1]\n",
    "        is sorted. Since we moved the least element of arr[i - 1 .. n], arr[i - 1 .. n]\n",
    "        contains elements which are less than or equal to arr[i .. n].\n",
    "        \n",
    "    termination:\n",
    "        Our algorithm terminates when we reach len(arr) - 1, labeled bound. Assuming we\n",
    "        have reached this step proceeding according to maintnance, arr[0 .. bound] is\n",
    "        sorted and contains elements less than or equal to arr[bound + 1], the last \n",
    "        element of arr. But arr[bound + 1] >= arr[k], for all k in bound means\n",
    "        arr[bound + 1] > arr[bound] so that the relationship \n",
    "        \n",
    "        arr[0] <= arr[1] <= .... <= arr[bound] <= arr[bound + 1]\n",
    "        \n",
    "        holds and we have our ordering."
   ]
  },
  {
   "cell_type": "markdown",
   "metadata": {},
   "source": [
    "Best and worst case runtimes for selection sort are $\\Theta{(n^2)}$."
   ]
  },
  {
   "cell_type": "markdown",
   "metadata": {},
   "source": [
    "#### 2.2-3\n",
    "Assume the array is populated from an equally wieghted draw with out replacement from a set of size n + 1. Then the best case run time is 1 step the average case runtime is n/2 steps and the worst case runtime is n steps. Thus:\n",
    "\n",
    "$worst case \\sim \\Theta{(n)}$\n",
    "\n",
    "$avg case \\sim \\Theta{(n)}$\n",
    "\n",
    "$best case \\sim \\Theta{(1)}$"
   ]
  },
  {
   "cell_type": "markdown",
   "metadata": {},
   "source": [
    "#### 2.2-4\n",
    "Assume the best case scenario and optimize to this assumption."
   ]
  },
  {
   "cell_type": "markdown",
   "metadata": {},
   "source": [
    "#### 2.3-1\n",
    "Below, merge sort is coded in 0 index land rather than diagramming."
   ]
  },
  {
   "cell_type": "code",
   "execution_count": 16,
   "metadata": {
    "collapsed": true
   },
   "outputs": [],
   "source": [
    "def _merge(arr, p, q, r, maxval):\n",
    "    n1 = q - p + 1\n",
    "    n2 = r - q\n",
    "    arr1 = [None] * (n1 + 1)\n",
    "    arr2 = [None] * (n2 + 1)\n",
    "    \n",
    "    for i in range(n1):\n",
    "        arr1[i] = arr[p + i]\n",
    "    for i in range(n2):\n",
    "        arr2[i] = arr[q + i + 1]\n",
    "    \n",
    "    arr1[n1] = maxval\n",
    "    arr2[n2] = maxval\n",
    "    \n",
    "    i = j = 0\n",
    "    for k in range(r - p + 1):\n",
    "        if arr1[i] <= arr2[j]:\n",
    "            arr[p + k] = arr1[i]\n",
    "            i += 1\n",
    "        else:\n",
    "            arr[p + k] = arr2[j]\n",
    "            j += 1\n",
    "\n",
    "\n",
    "def _go(arr, p, r, maxval):\n",
    "    if p < r:\n",
    "        q = int((p + r) / 2)\n",
    "        _go(arr, p, q, maxval)\n",
    "        _go(arr, q + 1, r, maxval)\n",
    "        _merge(arr, p, q, r, maxval)\n",
    "\n",
    "\n",
    "def merge_sort(arr, maxval=inf):\n",
    "    _go(arr, 0, len(arr) - 1, maxval)"
   ]
  },
  {
   "cell_type": "markdown",
   "metadata": {},
   "source": [
    "Test"
   ]
  },
  {
   "cell_type": "code",
   "execution_count": 17,
   "metadata": {
    "collapsed": false
   },
   "outputs": [],
   "source": [
    "for k in range(100, 1000):\n",
    "    L = random(k)\n",
    "    merge_sort(L)\n",
    "    args = L.argsort()\n",
    "    assert (L == L[args]).all()"
   ]
  },
  {
   "cell_type": "markdown",
   "metadata": {},
   "source": [
    "#### 2.3-2"
   ]
  },
  {
   "cell_type": "code",
   "execution_count": 18,
   "metadata": {
    "collapsed": true
   },
   "outputs": [],
   "source": [
    "def _merge(arr, p, q, r):\n",
    "    n1 = q - p + 1\n",
    "    n2 = r - q\n",
    "    arr1 = [None] * (n1)\n",
    "    arr2 = [None] * (n2)\n",
    "    \n",
    "    for i in range(n1):\n",
    "        arr1[i] = arr[p + i]\n",
    "    for i in range(n2):\n",
    "        arr2[i] = arr[q + i + 1]\n",
    "        \n",
    "    i = j = 0\n",
    "    for k in range(r - p + 1):\n",
    "        if arr1[i] <= arr2[j]:\n",
    "            arr[p + k] = arr1[i]\n",
    "            i += 1\n",
    "        else:\n",
    "            arr[p + k] = arr2[j]\n",
    "            j += 1\n",
    "        if i == n1:\n",
    "            for t in range(n2 - j):\n",
    "                arr[p + k + 1 + t] = arr2[j + t]\n",
    "            break\n",
    "        if (j == n2):\n",
    "            for t in range(n1 - i):\n",
    "                arr[p + k + 1 + t] = arr1[i + t]\n",
    "            break\n",
    "\n",
    "\n",
    "def _go(arr, p, r):\n",
    "    if p < r:\n",
    "        q = int((p + r) / 2)\n",
    "        _go(arr, p, q)\n",
    "        _go(arr, q + 1, r)\n",
    "        _merge(arr, p, q, r)\n",
    "\n",
    "\n",
    "def merge_sort(arr):\n",
    "    _go(arr, 0, len(arr) - 1)"
   ]
  },
  {
   "cell_type": "code",
   "execution_count": 19,
   "metadata": {
    "collapsed": false
   },
   "outputs": [],
   "source": [
    "for k in range(100, 1000):\n",
    "    L = random(k)\n",
    "    merge_sort(L)\n",
    "    args = L.argsort()\n",
    "    assert (L == L[args]).all()"
   ]
  },
  {
   "cell_type": "markdown",
   "metadata": {},
   "source": [
    "#### 2.3-3\n",
    "Let $S$ be the set $S = \\{n: T(2^n) = n\\lg{(n)}\\}$\n",
    "\n",
    "a. 1 is in $S$ since\n",
    "$$2^1 = 2 = 2\\lg{(2)}$$\n",
    "\n",
    "b. if $k$ is in $S$ then $k + 1$ since\n",
    "$$T(2^{k + 1})$$\n",
    "$$= T(2^{k + 1} / 2) + 2^{k + 1}$$\n",
    "$$= 2T(2^k) + 2^{k + 1}$$\n",
    "$$= 2(2^k\\lg{(2^k)}) + 2^{k + 1}$$\n",
    "$$= 2^{k + 1}(\\lg{(2^k)} + 1)$$\n",
    "$$= 2^{k + 1}(\\lg{(2^k)} + \\lg{(2)})$$\n",
    "$$= 2^{k + 1}\\lg{(2^{k + 1})}$$\n",
    "\n",
    "so $S = \\mathbb{N}.$"
   ]
  },
  {
   "cell_type": "markdown",
   "metadata": {},
   "source": [
    "#### 2.3-4 "
   ]
  },
  {
   "cell_type": "code",
   "execution_count": 20,
   "metadata": {
    "collapsed": true
   },
   "outputs": [],
   "source": [
    "def _ins_merge(arr, p):\n",
    "    insert = arr[p]\n",
    "    i = 1\n",
    "    while p - i > -1:\n",
    "        if arr[p - i] > insert:\n",
    "            arr[p - i + 1] = arr[p - i]\n",
    "            i += 1\n",
    "        else:\n",
    "            break\n",
    "    arr[p - i + 1] = insert\n",
    "\n",
    "def insertion_sort(arr):\n",
    "    upper = len(arr)\n",
    "    if upper > 1:\n",
    "        insertion_sort(arr[:upper - 1])\n",
    "        _ins_merge(arr, upper - 1)"
   ]
  },
  {
   "cell_type": "markdown",
   "metadata": {},
   "source": [
    "Test"
   ]
  },
  {
   "cell_type": "code",
   "execution_count": 21,
   "metadata": {
    "collapsed": false
   },
   "outputs": [],
   "source": [
    "for i in range(100):\n",
    "    L = random(100)\n",
    "    insertion_sort(L)\n",
    "    assert (L == L[L.argsort()]).all()"
   ]
  },
  {
   "cell_type": "markdown",
   "metadata": {},
   "source": [
    "The recursion is\n",
    "$$T(n) = \\left\\{ \\begin{array}{lcm} \n",
    "        c & if n = 1 \\\\\n",
    "        T(n - 1) + cn & if n > 1\n",
    "\\end{array}\\right.$$\n",
    "\n",
    "and the algorithm is $\\Theta{(n^2)}$."
   ]
  },
  {
   "cell_type": "markdown",
   "metadata": {},
   "source": [
    "#### 2.3-5"
   ]
  },
  {
   "cell_type": "code",
   "execution_count": 22,
   "metadata": {
    "collapsed": true
   },
   "outputs": [],
   "source": [
    "def binsearch(arr, item):\n",
    "    \"\"\"arr is a sorted array with inqualities defined on the elements\"\"\"\n",
    "    def _go(arr, p, r):\n",
    "        q = int(floor((r + p) / 2))    # C1\n",
    "        if item == arr[q]:             # C2\n",
    "            return q\n",
    "        elif len(arr) == 0:            # C3\n",
    "            return None\n",
    "        elif item < arr[q]:            # C4\n",
    "            return _go(arr, p, q - 1)  # T(n / 2 - 1)\n",
    "        else:\n",
    "            return _go(arr, q + 1, r)  # T(n / 2 - 1)\n",
    "    return _go(arr, 0, len(arr) - 1)"
   ]
  },
  {
   "cell_type": "markdown",
   "metadata": {},
   "source": [
    "Test"
   ]
  },
  {
   "cell_type": "code",
   "execution_count": 23,
   "metadata": {
    "collapsed": false
   },
   "outputs": [],
   "source": [
    "L = ['a', 'g', 'h', 'p', 'q', 's', 'z']\n",
    "h_ix = binsearch(L, 'h')\n",
    "s_ix = binsearch(L, 's')\n",
    "assert h_ix == 2\n",
    "assert s_ix == 5"
   ]
  },
  {
   "cell_type": "markdown",
   "metadata": {},
   "source": [
    "Letting $C = C1 + ... + C4$ runtime recursion is given by \n",
    "$$T(n) = \\left\\{ \\begin{array}{lcm}\n",
    "    C & if n = 1 \\\\\n",
    "    2T(n/2 - 1) & if n > 1\n",
    "\\end{array}\\right.\n",
    "$$\n",
    "\n",
    "This algorithm is worst case $\\lg(n)$ since at every step if the function does not short circuit it splits into arrays of size n / 2 - 1. It takes \\lg{(n)} steps to reach an array of size 1, at which time the algorithm returns either None or the index in constant time. The returns carry back up the branches to again in $\\lg{(n)}$ time. Leaving the worst case $\\Theta{lg{(n)}} + \\Theta{lg{(n)}}$ which is just $\\Theta{lg{(n)}}$."
   ]
  },
  {
   "cell_type": "markdown",
   "metadata": {},
   "source": [
    "#### 2.3-6\n",
    "I do not see an easy way to do this since the linear search also results in linear updates."
   ]
  },
  {
   "cell_type": "markdown",
   "metadata": {},
   "source": [
    "#### 2.3-7"
   ]
  },
  {
   "cell_type": "markdown",
   "metadata": {},
   "source": [
    "1. merge sort\n",
    "2. for each integer binary search for a matched sum splitting on the value of the sum\n",
    "\n",
    "This will yeild 2 worst case $n\\lg{(n)}$ steps which when summed are $\\Theta{(n\\lg{(n)})}$."
   ]
  },
  {
   "cell_type": "markdown",
   "metadata": {},
   "source": [
    "### End Of Chapter"
   ]
  },
  {
   "cell_type": "markdown",
   "metadata": {},
   "source": [
    "#### 2-1"
   ]
  },
  {
   "cell_type": "markdown",
   "metadata": {},
   "source": [
    "###### (a)\n",
    "Each of the $\\frac{n}{k}$ sorts can be accomplished in $k^2$ time. For $k^2 * \\frac{n}{k} = nk$ time."
   ]
  },
  {
   "cell_type": "markdown",
   "metadata": {},
   "source": [
    "###### (b)\n",
    "If we simply stop when our sub arrays are of length k and insertion sort, then we must only hit a $\\lg{(\\frac{n}{k})}$ recursion depth. As in the case of standard merge sort, the sum of the branches at each step is Cn so that our runtime is $\\Theta{(n\\lg{(\\frac{n}{k})})}$"
   ]
  },
  {
   "cell_type": "markdown",
   "metadata": {},
   "source": [
    "###### (c)\n",
    "$$\\Theta{(nk + n\\lg{(\\frac{n}{k})})} = \\Theta{(n\\lg{(n)})}$$\n",
    "\n",
    "when \n",
    "\n",
    "$$k = \\lg{(n)}$$\n",
    "\n",
    "this asymptotic equivalence holds.d"
   ]
  },
  {
   "cell_type": "markdown",
   "metadata": {},
   "source": [
    "###### (d)\n",
    "We choose the largest value of k for which insertion sort is faster than merge sort."
   ]
  },
  {
   "cell_type": "markdown",
   "metadata": {
    "collapsed": true
   },
   "source": [
    "#### 2-2"
   ]
  },
  {
   "cell_type": "markdown",
   "metadata": {},
   "source": [
    "###### (a)\n",
    "We must show that the $A^\\prime$ is a permutation of $A$."
   ]
  },
  {
   "cell_type": "markdown",
   "metadata": {},
   "source": [
    "###### (b)\n",
    "Loop Invariant (Bubble Sort, inner loop)\n",
    "\n",
    "    At the outset of each loop the j element is less than or equal to \n",
    "    all elements of the A[j to n] array.\n",
    "    \n",
    "    initialization:\n",
    "        When j is n this is trivially true, since the array is lenght one.\n",
    "    \n",
    "    maintnance:\n",
    "        On the m + 1 step j = i - (m + 1). If A[j - 1] > A[j] then the two \n",
    "        will be swapped and the condition will be maintained.\n",
    "    \n",
    "    termination:\n",
    "        When j = i + 1, the element in j + 1 is possibly swapped with A[j] \n",
    "        according to our test. Since A[j + 1] is the least element of A[j + 1 to n]\n",
    "        and the swap ensures that the least element of A[j to j + 1] is placed in \n",
    "        the A[j] location, A[j] no holds the least element of A[j to n]. More over,\n",
    "        the loop now terminates with this position in tact since the end of the for loop\n",
    "        is reached. So termination is guaranteed and our condition will always\n",
    "        hold at termination."
   ]
  },
  {
   "cell_type": "markdown",
   "metadata": {},
   "source": [
    "###### (c)\n",
    "Loop Invariant (Bubble Sort, outer loop)\n",
    "\n",
    "    At the outset of an iteration, the elements of array A[1 to i - 1] are in the form\n",
    "    \n",
    "$$A[1] \\leq A[2] \\leq \\ldots \\leq A[i - 1]$$\n",
    "    \n",
    "    and A[1 to i -1] contains the least elements of A.\n",
    "\n",
    "    initialization:\n",
    "        When i = 1, this is trivially true since A[1 to i - 1] is the empty set.\n",
    "        \n",
    "    maintnance:\n",
    "        As the loop runs the inner loop on j terminates in the condition that the j - 1\n",
    "        element is less or equal to all other elements in A[j - 1 to n]. But the \n",
    "        j - 1 element is greater than or equal to all of the elements in the \n",
    "        A[1 to j - 2] array by the initiallization step and induction. So that \n",
    "        A[1 to j - 1] is an ordered permutation of it's elements s.t. all of its \n",
    "        elements are less than or equal to the elements of A[j to n]. But j - 1 is \n",
    "        i at the termination of our inner loop, so the condition holds.\n",
    "        \n",
    "    termination:\n",
    "        This algorithm necessarily terminates since it is handled by a for clause. \n",
    "        Moreover, when the final step occures\n",
    "\n",
    "$$A[1] \\leq A[2] \\leq \\ldots \\leq A[n - 1]$$\n",
    "\n",
    "        but since A[1 to n - 1] contains only elements less than or equal to A[n] we have\n",
    "\n",
    "$$A[1] \\leq A[2] \\leq \\ldots \\leq A[n - 1] \\leq A[n]$$\n",
    "\n",
    "        and A is a sorted permutation of its initial state."
   ]
  },
  {
   "cell_type": "markdown",
   "metadata": {},
   "source": [
    "###### (d)\n",
    "The worst case runtime for bubble sort is $\\Theta{(n^2)}$ as is insertion sort. The \n",
    "best case run time is also $\\Theta{(n^2)}$, as compared to insertion sort's $\\Theta{(n)}$."
   ]
  },
  {
   "cell_type": "markdown",
   "metadata": {},
   "source": [
    "#### 2-3"
   ]
  },
  {
   "cell_type": "markdown",
   "metadata": {},
   "source": [
    "###### (a)\n",
    "Horners rule is $\\Theta{(n)}$"
   ]
  },
  {
   "cell_type": "markdown",
   "metadata": {},
   "source": [
    "###### (b)\n",
    "\n",
    "[Note] x is given\n",
    "\n",
    "summed = 0\n",
    "\n",
    "`for i in 0 to n  \n",
    "    prod = 1  \n",
    "    for j in 1 to i  \n",
    "        prod = prod * x  \n",
    "    summed = prod * a[i]`"
   ]
  },
  {
   "cell_type": "markdown",
   "metadata": {},
   "source": [
    "the algorithm above runs in $\\Theta{(n^2)} time.$"
   ]
  },
  {
   "cell_type": "markdown",
   "metadata": {},
   "source": [
    "###### (c)\n",
    "initialization:  \n",
    "\n",
    "    At the outset of the first loop i equals n so the set of terms in the sum is empty\n",
    "    and thus the sum is 0 which is the same value carried by y.\n",
    "\n",
    "maintnance:  \n",
    "    \n",
    "    As a loop proceeds we start with the loop invariants state. So that when we set \n",
    "    \n",
    "$$y = a_{i} + x*\\sum^{n - (i + 1)}_{k=0}{a_{k + i + 1}x^k}$$\n",
    "\n",
    "$$= \\sum^{n - i}_{k=0}{a_{k + i}x^k}$$\n",
    "\n",
    "    but i in this step is i + 1 in the next, since we are decrimenting, so the \n",
    "    condition is maintained.\n",
    "\n",
    "termination:\n",
    "    \n",
    "    This loop terminates at i = 0 by the use of for loop control. By maintnance our \n",
    "    loop finalizes at\n",
    "    \n",
    "$$= \\sum^{n - i}_{k=0}{a_{k + i}x^k}$$\n",
    "\n",
    "    where i = 0. Thus our terminal value of y is \n",
    "\n",
    "$$= \\sum^{n}_{k=0}{a_{k}x^k}$$\n",
    "\n",
    "    the value of the polynomial."
   ]
  },
  {
   "cell_type": "markdown",
   "metadata": {},
   "source": [
    "###### (d)\n",
    "By (c), the definition of $p(x)$, and the fact that the set of coefficients on $p(x)$ \n",
    "uniquely determines the polynomial our result is shown."
   ]
  },
  {
   "cell_type": "markdown",
   "metadata": {},
   "source": [
    "#### 2-4"
   ]
  },
  {
   "cell_type": "markdown",
   "metadata": {},
   "source": [
    "###### (a)\n",
    "(2, 1), (3, 1), (8, 1), (6, 1), (8, 6)"
   ]
  },
  {
   "cell_type": "markdown",
   "metadata": {},
   "source": [
    "###### (b)\n",
    "The descending sort of the array, D, has the most inversion. Since every pair of \n",
    "relationships in D is a inversion, there are $\\frac{n(n - 1)}{2}$ inversions. "
   ]
  },
  {
   "cell_type": "markdown",
   "metadata": {},
   "source": [
    "###### (c)\n",
    "The runtime grows with the number of inversions, since the inner loop only \n",
    "executes in the case of an inversion."
   ]
  },
  {
   "cell_type": "markdown",
   "metadata": {},
   "source": [
    "###### (d)\n",
    "Since an inversion is an ordered pair and is uniquely identied by location values\n",
    "we can loop over the elements of A and count all of the inversions where that \n",
    "element is in first position without fear of double counting. For each element in the array all of the other elements may be checked for inversion using a binary splitting pattern. At the base case this check will run in constant time. And each level of recursion depth runs in constant time. There will be a $\\lg{(n)}$ recursion depth. Thus we have described an algorithm which runs in $\\Theta{(n\\lg{(n)})}$ time. Where we run a $\\lg{(n)}$ search for each of the $n$ elements."
   ]
  }
 ],
 "metadata": {
  "kernelspec": {
   "display_name": "Python 2",
   "language": "python",
   "name": "python2"
  },
  "language_info": {
   "codemirror_mode": {
    "name": "ipython",
    "version": 2
   },
   "file_extension": ".py",
   "mimetype": "text/x-python",
   "name": "python",
   "nbconvert_exporter": "python",
   "pygments_lexer": "ipython2",
   "version": "2.7.12"
  }
 },
 "nbformat": 4,
 "nbformat_minor": 1
}
