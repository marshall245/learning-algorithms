{
 "cells": [
  {
   "cell_type": "markdown",
   "metadata": {},
   "source": [
    "# Chapter 1 Solutions"
   ]
  },
  {
   "cell_type": "markdown",
   "metadata": {},
   "source": [
    "### imports"
   ]
  },
  {
   "cell_type": "code",
   "execution_count": 1,
   "metadata": {
    "collapsed": true
   },
   "outputs": [],
   "source": [
    "import pandas as pd\n",
    "\n",
    "from math import factorial\n",
    "from collections import OrderedDict\n",
    "from numpy import log, sqrt, exp\n",
    "from scipy.optimize import newton"
   ]
  },
  {
   "cell_type": "markdown",
   "metadata": {},
   "source": [
    "#### 1.1-1\n",
    "a. Sorting: on small data an exact set of quantiles needs to be computed.\n",
    "\n",
    "b. Convex Hull: The convex hull can be used to determine minimal paths. Imagine the interior points representing \n",
    "    points jutting from an obstical like building on a lake."
   ]
  },
  {
   "cell_type": "markdown",
   "metadata": {},
   "source": [
    "#### 1.1-2\n",
    "Other than speed a person might use resource consumption as a measure of optimal behavior in prcactice."
   ]
  },
  {
   "cell_type": "markdown",
   "metadata": {},
   "source": [
    "#### 1.1-3 Linked lists\n",
    "a. strength: it is not statically sized, and thus can grow and shrink at runtime.\n",
    "\n",
    "b. weaknesses: lookups are o(n)"
   ]
  },
  {
   "cell_type": "markdown",
   "metadata": {},
   "source": [
    "#### 1.1-4\n",
    "The shortest path and travelling salesman problems are both optimization problems, and both are framed as questions of optimal path. Shortest path is a much less complex algorithm and often has a solution. The traveling salesman problem is complex and has none."
   ]
  },
  {
   "cell_type": "markdown",
   "metadata": {},
   "source": [
    "#### 1.1-5\n",
    "a. best only: a customer wants its top five stores by revenue\n",
    "\n",
    "b. quantiles need to be found on a petabyte sized array of doubles"
   ]
  },
  {
   "cell_type": "markdown",
   "metadata": {},
   "source": [
    "#### 1.2-1\n",
    "Databases: sorting and searching play an important role in producing joins, filters, and grouped aggregations, as well as in many other places."
   ]
  },
  {
   "cell_type": "markdown",
   "metadata": {},
   "source": [
    "#### 1.2-2"
   ]
  },
  {
   "cell_type": "markdown",
   "metadata": {},
   "source": [
    "Since for large value of n insertion sort will have longer run times, we need to find the boundary where the two are equivalent and take the smaller values of n. That is we need to solve:\n",
    "\n",
    "$$8n^2 = 64n\\ln(n)$$\n",
    "\n",
    "We use Newton's method, which returns 26.1. Taking the floor we have 26."
   ]
  },
  {
   "cell_type": "code",
   "execution_count": 2,
   "metadata": {
    "collapsed": false
   },
   "outputs": [
    {
     "data": {
      "text/plain": [
       "26.093485476611917"
      ]
     },
     "execution_count": 2,
     "metadata": {},
     "output_type": "execute_result"
    }
   ],
   "source": [
    "def fun(n):\n",
    "    return 8*n**2 - 64*n*log(n)\n",
    "\n",
    "newton(fun, 100000)"
   ]
  },
  {
   "cell_type": "markdown",
   "metadata": {},
   "source": [
    "#### 1.2-3\n",
    "Again we use Newtons method by setting\n",
    "$$f(n) = 2^n - 100n^2$$\n",
    "\n",
    "and solving\n",
    "$$f(n) = 0$$\n",
    "\n",
    "this yields a solution of 14 if a starting point of between 15 and 57 is set."
   ]
  },
  {
   "cell_type": "code",
   "execution_count": 3,
   "metadata": {
    "collapsed": true
   },
   "outputs": [],
   "source": [
    "def fun2(n):\n",
    "    return 2 ** n - 100 * n ** 2"
   ]
  },
  {
   "cell_type": "code",
   "execution_count": 4,
   "metadata": {
    "collapsed": false
   },
   "outputs": [
    {
     "data": {
      "text/plain": [
       "14.324727836998202"
      ]
     },
     "execution_count": 4,
     "metadata": {},
     "output_type": "execute_result"
    }
   ],
   "source": [
    "newton(fun2, 57)"
   ]
  },
  {
   "cell_type": "markdown",
   "metadata": {},
   "source": [
    "Let's try log transforming the eqation before solving and setting to 0.\n",
    "\n",
    "$$2^n = 100n^2 \\Rightarrow$$ \n",
    "$$n\\ln(2) = 2\\ln(n) + \\ln(100) \\Rightarrow$$\n",
    "$$f(n) = n\\ln(2) - 2\\ln(n) - \\ln(100)$$\n",
    "\n",
    "and we solve\n",
    "\n",
    "$$f(n) = 0$$\n",
    "\n",
    "This yields a solution of 14 as well but with a much greater input range and level of stability. Start points between 10 and 1,000,000 all converge and avoid overflow."
   ]
  },
  {
   "cell_type": "code",
   "execution_count": 5,
   "metadata": {
    "collapsed": false
   },
   "outputs": [
    {
     "data": {
      "text/plain": [
       "14.324727836998203"
      ]
     },
     "execution_count": 5,
     "metadata": {},
     "output_type": "execute_result"
    }
   ],
   "source": [
    "def fun3(n):\n",
    "    return n * log(2) - 2 * log(n) - log(100)\n",
    "\n",
    "newton(fun3, 3)"
   ]
  },
  {
   "cell_type": "code",
   "execution_count": 6,
   "metadata": {
    "collapsed": false
   },
   "outputs": [],
   "source": [
    "#Check space of acceptable start points.\n",
    "for k in range(10, 1000000, 10):\n",
    "    try:\n",
    "        sol = newton(fun3, k)\n",
    "        assert (sol < 15) and (sol > 14)\n",
    "    except Exception as e:\n",
    "        print(k)\n",
    "        break"
   ]
  },
  {
   "cell_type": "markdown",
   "metadata": {},
   "source": [
    "#### 1-1"
   ]
  },
  {
   "cell_type": "code",
   "execution_count": 7,
   "metadata": {
    "collapsed": false
   },
   "outputs": [],
   "source": [
    "# helpers\n",
    "def solve(f, bound, x0, maxiter=100):\n",
    "    # transform microseconds if the algorithm requires transform\n",
    "    return newton(lambda a: bound - f(a), x0, maxiter=maxiter)\n",
    "\n",
    "def results(f, mstrans, x0, maxiter=100):\n",
    "    dct = OrderedDict()\n",
    "    pairs = [\n",
    "        ('sec'   , 1),\n",
    "        ('min'   , 60),\n",
    "        ('hour'  , 3600),\n",
    "        ('day'   , 86400),\n",
    "        ('month' , 2592000),\n",
    "        ('year'  , 31104000),\n",
    "        ('cntry' , 3110400000)\n",
    "    ]\n",
    "    \n",
    "    for tup in pairs:\n",
    "        ms = tup[1] * 1000000\n",
    "        dct[tup[0]] = solve(f, mstrans(ms), x0, maxiter)\n",
    "    return dct\n",
    "\n",
    "def show(dct, header):\n",
    "    print(header)\n",
    "    for k, v in dct.iteritems():\n",
    "        print('\\t' + k + '\\t:\\t' + str(int(v)))\n",
    "\n",
    "ident = lambda a: a\n",
    "\n",
    "def facsolve(bound):    \n",
    "    def _go(n, beenpos, beenneg):\n",
    "        fac = factorial(n)\n",
    "        if beenpos and beenneg and (bound - fac > 0):\n",
    "            return n\n",
    "        elif bound - fac >= 0:\n",
    "            beenpos = True\n",
    "            return _go(n + 1, beenpos, beenneg)\n",
    "        else:\n",
    "            beenneg = True\n",
    "            return _go(n - 1, beenpos, beenneg)\n",
    "    return _go(1, False, False)\n",
    "\n",
    "def facresults():\n",
    "    dct = OrderedDict()\n",
    "    pairs = [\n",
    "        ('sec'   , 1),\n",
    "        ('min'   , 60),\n",
    "        ('hour'  , 3600),\n",
    "        ('day'   , 86400),\n",
    "        ('month' , 2592000),\n",
    "        ('year'  , 31104000),\n",
    "        ('cntry' , 3110400000)\n",
    "    ]\n",
    "    \n",
    "    for tup in pairs:\n",
    "        ms = tup[1] * 1000000\n",
    "        dct[tup[0]] = facsolve(ms)\n",
    "    return dct"
   ]
  },
  {
   "cell_type": "markdown",
   "metadata": {},
   "source": [
    "###### ln(n)"
   ]
  },
  {
   "cell_type": "markdown",
   "metadata": {},
   "source": [
    "There are $e^{1000000}$ iterations possible in a second. All remaining solutions are the $e^{1000000 * nseconds}$."
   ]
  },
  {
   "cell_type": "markdown",
   "metadata": {},
   "source": [
    "###### sqrt(n)"
   ]
  },
  {
   "cell_type": "code",
   "execution_count": 8,
   "metadata": {
    "collapsed": false
   },
   "outputs": [
    {
     "name": "stdout",
     "output_type": "stream",
     "text": [
      "Results for sqrt(n)\n",
      "\tsec\t:\t1000000000000\n",
      "\tmin\t:\t3600000000000000\n",
      "\thour\t:\t12960000000000000000\n",
      "\tday\t:\t7464960000000001048576\n",
      "\tmonth\t:\t6718464000000000805306368\n",
      "\tyear\t:\t967458815999999995705032704\n",
      "\tcntry\t:\t9674588159999999635992931729408\n"
     ]
    }
   ],
   "source": [
    "sols = results(sqrt, ident, 1000000000000, 10000000)\n",
    "show(sols, 'Results for sqrt(n)')"
   ]
  },
  {
   "cell_type": "markdown",
   "metadata": {},
   "source": [
    "###### n"
   ]
  },
  {
   "cell_type": "code",
   "execution_count": 9,
   "metadata": {
    "collapsed": false
   },
   "outputs": [
    {
     "name": "stdout",
     "output_type": "stream",
     "text": [
      "Results for n\n",
      "\tsec\t:\t1000000\n",
      "\tmin\t:\t60000000\n",
      "\thour\t:\t3600000000\n",
      "\tday\t:\t86400000000\n",
      "\tmonth\t:\t2592000000000\n",
      "\tyear\t:\t31104000000000\n",
      "\tcntry\t:\t3110400000000000\n"
     ]
    }
   ],
   "source": [
    "sols = results(ident, ident, 10000000000, 1000)\n",
    "show(sols, 'Results for n')"
   ]
  },
  {
   "cell_type": "markdown",
   "metadata": {},
   "source": [
    "###### n * ln(n)"
   ]
  },
  {
   "cell_type": "code",
   "execution_count": 10,
   "metadata": {
    "collapsed": false
   },
   "outputs": [
    {
     "name": "stdout",
     "output_type": "stream",
     "text": [
      "Results for n log(n)\n",
      "\tsec\t:\t87847\n",
      "\tmin\t:\t3950157\n",
      "\thour\t:\t188909174\n",
      "\tday\t:\t3911758539\n",
      "\tmonth\t:\t102245912509\n",
      "\tyear\t:\t1121055084773\n",
      "\tcntry\t:\t96591730923946\n"
     ]
    }
   ],
   "source": [
    "sols = results(lambda a: log(a * log(a)), log, 1000, 1000)\n",
    "show(sols, 'Results for n log(n)')"
   ]
  },
  {
   "cell_type": "markdown",
   "metadata": {},
   "source": [
    "###### n ^ 2"
   ]
  },
  {
   "cell_type": "code",
   "execution_count": 11,
   "metadata": {
    "collapsed": false
   },
   "outputs": [
    {
     "name": "stdout",
     "output_type": "stream",
     "text": [
      "Results for n ^ 2\n",
      "\tsec\t:\t1000\n",
      "\tmin\t:\t7745\n",
      "\thour\t:\t59999\n",
      "\tday\t:\t293938\n",
      "\tmonth\t:\t1609968\n",
      "\tyear\t:\t5577096\n",
      "\tcntry\t:\t55770960\n"
     ]
    }
   ],
   "source": [
    "sols = results(lambda a: 2 * log(a), log, 100, 1000)\n",
    "show(sols, 'Results for n ^ 2')"
   ]
  },
  {
   "cell_type": "markdown",
   "metadata": {},
   "source": [
    "###### n ^ 3"
   ]
  },
  {
   "cell_type": "code",
   "execution_count": 12,
   "metadata": {
    "collapsed": false
   },
   "outputs": [
    {
     "name": "stdout",
     "output_type": "stream",
     "text": [
      "Results for n ^ 3\n",
      "\tsec\t:\t99\n",
      "\tmin\t:\t391\n",
      "\thour\t:\t1532\n",
      "\tday\t:\t4420\n",
      "\tmonth\t:\t13736\n",
      "\tyear\t:\t31448\n",
      "\tcntry\t:\t145972\n"
     ]
    }
   ],
   "source": [
    "sols = results(lambda a: 3 * log(a), log, 100, 1000)\n",
    "show(sols, 'Results for n ^ 3')"
   ]
  },
  {
   "cell_type": "markdown",
   "metadata": {},
   "source": [
    "###### 2 ^ n"
   ]
  },
  {
   "cell_type": "code",
   "execution_count": 13,
   "metadata": {
    "collapsed": false
   },
   "outputs": [
    {
     "name": "stdout",
     "output_type": "stream",
     "text": [
      "Results for 2 ^ n\n",
      "\tsec\t:\t19\n",
      "\tmin\t:\t25\n",
      "\thour\t:\t31\n",
      "\tday\t:\t36\n",
      "\tmonth\t:\t41\n",
      "\tyear\t:\t44\n",
      "\tcntry\t:\t51\n"
     ]
    }
   ],
   "source": [
    "sols = results(lambda a: a * log(2), log, 10, 1000)\n",
    "show(sols, 'Results for 2 ^ n')"
   ]
  },
  {
   "cell_type": "markdown",
   "metadata": {},
   "source": [
    "###### n!"
   ]
  },
  {
   "cell_type": "code",
   "execution_count": 14,
   "metadata": {
    "collapsed": false
   },
   "outputs": [
    {
     "name": "stdout",
     "output_type": "stream",
     "text": [
      "Results for n!\n",
      "\tsec\t:\t9\n",
      "\tmin\t:\t11\n",
      "\thour\t:\t12\n",
      "\tday\t:\t13\n",
      "\tmonth\t:\t15\n",
      "\tyear\t:\t16\n",
      "\tcntry\t:\t17\n"
     ]
    }
   ],
   "source": [
    "sols = facresults()\n",
    "show(sols, 'Results for n!')"
   ]
  }
 ],
 "metadata": {
  "kernelspec": {
   "display_name": "Python 2",
   "language": "python",
   "name": "python2"
  },
  "language_info": {
   "codemirror_mode": {
    "name": "ipython",
    "version": 2
   },
   "file_extension": ".py",
   "mimetype": "text/x-python",
   "name": "python",
   "nbconvert_exporter": "python",
   "pygments_lexer": "ipython2",
   "version": "2.7.12"
  }
 },
 "nbformat": 4,
 "nbformat_minor": 1
}
