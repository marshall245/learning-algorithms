{
 "cells": [
  {
   "cell_type": "markdown",
   "metadata": {},
   "source": [
    "# Chapter 4 Solutions"
   ]
  },
  {
   "cell_type": "markdown",
   "metadata": {},
   "source": [
    "#### 4.1-1\n",
    "\n",
    "The tuple (mid, mid + 1, A[mid] + A[mid + 1])"
   ]
  },
  {
   "cell_type": "markdown",
   "metadata": {},
   "source": [
    "4.1-2\n",
    "\n",
    ">maxsum = 0  \n",
    ">lb = 0  \n",
    ">ub = 0  \n",
    "\n",
    ">for i in 1 to n:  \n",
    ">&nbsp;&nbsp;tmpsum = 0  \n",
    ">&nbsp;&nbsp;for j in 0 to i:  \n",
    ">&nbsp;&nbsp;&nbsp;&nbsp;tmpsum += A[i - j]  \n",
    ">&nbsp;&nbsp;&nbsp;&nbsp;if tmpsum > maxsum:  \n",
    ">&nbsp;&nbsp;&nbsp;&nbsp;&nbsp;&nbsp;lb = j  \n",
    ">&nbsp;&nbsp;&nbsp;&nbsp;&nbsp;&nbsp;ub = i  \n",
    ">&nbsp;&nbsp;&nbsp;&nbsp;&nbsp;&nbsp;maxsum = tmpsum    \n",
    "            \n",
    "// look for the monotonically non increasing case where lb == ub == 0"
   ]
  },
  {
   "cell_type": "markdown",
   "metadata": {},
   "source": [
    "#### 4.1-3"
   ]
  },
  {
   "cell_type": "code",
   "execution_count": 4,
   "metadata": {
    "collapsed": false
   },
   "outputs": [],
   "source": [
    "def max_subarray_bf(A):\n",
    "    \"\"\"A is of type list with inequalities and sums defined on the elemnets\"\"\"\n",
    "    maxsum = -2^64\n",
    "    lb = -1\n",
    "    ub = -1\n",
    "    N = len(A)\n",
    "    \n",
    "    for i in range(1, N + 1):\n",
    "        for j in range(i):\n",
    "            tmpsum = sum(A[j:i])\n",
    "            if tmpsum > maxsum:\n",
    "                maxsum = tmpsum\n",
    "                lb = j\n",
    "                ub = i\n",
    "    return lb, ub, maxsum"
   ]
  },
  {
   "cell_type": "code",
   "execution_count": 26,
   "metadata": {
    "collapsed": false
   },
   "outputs": [],
   "source": [
    "import math\n",
    "\n",
    "def max_crossing(A, l, m, u):\n",
    "    rollingsum = 0\n",
    "    lb = m\n",
    "    ub = m + 1\n",
    "    maxsum = A[lb]\n",
    "    \n",
    "    for i in range(m - l + 1):\n",
    "        rollingsum += A[m - i]\n",
    "        if  rollingsum >= maxsum:\n",
    "            maxsum = rollingsum\n",
    "            lb = m - i\n",
    "    totsum = maxsum\n",
    "    \n",
    "    rollingsum = 0\n",
    "    maxsum = A[ub]\n",
    "    for i in range(u - m):\n",
    "        rollingsum += A[m + 1 + i]\n",
    "        if rollingsum >= maxsum:\n",
    "            maxsum = rollingsum\n",
    "            ub = m + 1 + i\n",
    "    \n",
    "    return lb, ub + 1, totsum + maxsum\n",
    "\n",
    "def max_subarray(A, l=None, u=None):\n",
    "    if l is None:\n",
    "        l = 0\n",
    "    if u is None:\n",
    "        u = len(A) - 1\n",
    "    if l == u:\n",
    "        return l, u + 1, A[l]\n",
    "    mid = int(math.floor((l + u) / 2))\n",
    "    left_low, left_high, left_sum = max_subarray(A, l, mid)\n",
    "    right_low, right_high, right_sum = max_subarray(A, mid + 1, u)\n",
    "    cross_low, cross_high, cross_sum = max_crossing(A, l, mid, u)\n",
    "    \n",
    "    if (left_sum >= right_sum) and (left_sum >= cross_sum):\n",
    "        return left_low, left_high, left_sum\n",
    "    if (right_sum >= left_sum) and (right_sum >= cross_sum):\n",
    "        return right_low, right_high, right_sum\n",
    "    else:\n",
    "        return cross_low, cross_high, cross_sum"
   ]
  },
  {
   "cell_type": "markdown",
   "metadata": {},
   "source": [
    "#### 4.1-4\n",
    "\n",
    "Fix the indexing and return zero as the sum."
   ]
  },
  {
   "cell_type": "markdown",
   "metadata": {},
   "source": [
    "#### 4.1-5"
   ]
  },
  {
   "cell_type": "code",
   "execution_count": 30,
   "metadata": {
    "collapsed": true
   },
   "outputs": [],
   "source": [
    "def max_subarray_lt(A):\n",
    "    maxsum = -2**64\n",
    "    rolling sum"
   ]
  },
  {
   "cell_type": "markdown",
   "metadata": {},
   "source": [
    "#### 4.3-1"
   ]
  },
  {
   "cell_type": "markdown",
   "metadata": {},
   "source": [
    "Proof: $T(n) = T(n - 1) + n$ is $O(n^2)$.\n",
    "\n",
    "Assume this holds for all $m < n$ then \n",
    "\n",
    "$T(n) = T(n - 1) + n$  \n",
    "$\\leq C(n - 1)^2 + n$  \n",
    "$= Cn^2 - n(2c - 1) + C$  \n",
    "$< Cn^2$ for $C = 2$ and $n \\geq 1$\n",
    "\n",
    "For the base case choose $n_0 = 2$ and \n",
    "\n",
    "$T(2) = T(1) + 2 = 3 < 2 x 2^2 = 8$"
   ]
  },
  {
   "cell_type": "markdown",
   "metadata": {},
   "source": [
    "#### 4.3-2"
   ]
  },
  {
   "cell_type": "markdown",
   "metadata": {},
   "source": [
    "Proof: $T(n) = T(\\lceil\\frac{n}{2}\\rceil) + 1$ is $O(\\lg{n})$\n",
    "\n",
    "Suppose this is the case for $m < n$ in the natural numbers. \n",
    "\n",
    "$T(n) = T(\\lceil\\frac{n}{2}\\rceil) + 1$  \n",
    "$\\leq C\\lg{\\frac{n}{2}} + 1$  \n",
    "$= C\\lg{n} - Clg{2} + 1$  \n",
    "$< C\\lg{n}$ for all C > 1  \n",
    "\n",
    "and for the base case we see if $n = 1$ then \n",
    "\n",
    "$T(2) = T(1) + 1$  \n",
    "$= 2 < C\\lg{2} = C$ if $C > 2$.\n",
    "\n",
    "Let's choose $C > 2$ to complete our argument."
   ]
  },
  {
   "cell_type": "markdown",
   "metadata": {},
   "source": [
    "#### 4.3-3"
   ]
  },
  {
   "cell_type": "markdown",
   "metadata": {},
   "source": [
    "Proof: $T(n) = 2T(\\lfloor \\frac{n}{2}\\rfloor) + n$ is $O(n \\lg{n})$\n",
    "\n",
    "Suppose that our assumption holds for all $m < n$ in the natural numbers. Then\n",
    "\n",
    "$T(n) = 2T(\\lfloor \\frac{n}{2}\\rfloor) + n$  \n",
    "$\\geq Cn \\lg{\\frac{n}{2}} + n$  \n",
    "$= C n\\lg{n} - C\\frac{n}{2} + n$  \n",
    "$> C n\\lg{n}$ if $C < 2$  \n",
    "\n",
    "Note that if we choose the base case to be $n = 2$ then \n",
    "\n",
    "$T(2) = 2T(1) + 1 = 3 > 2 C \\lg{2}$ if $C < \\frac{3}{2}$."
   ]
  },
  {
   "cell_type": "markdown",
   "metadata": {},
   "source": [
    "#### 4.3-4"
   ]
  },
  {
   "cell_type": "markdown",
   "metadata": {},
   "source": [
    "Proof: $T(n)$ is $O(n \\lg{n} + d) = O(n \\lg{n})$ where $d \\geq 1$.\n",
    "\n",
    "Assume our theorem holds for $m < n$ in the natural numbers. Then\n",
    "\n",
    "$T(n) = 2T(\\lfloor \\frac{n}{2} \\rfloor) + n$  \n",
    "$\\leq C (n \\lg{\\frac{n}{2}} + d) + n$  \n",
    "$= C n \\lg{n} - C n + n + C d$  \n",
    "$= C n \\lg{n} - n (C - 1) + C d$  \n",
    "$< C (n \\lg{n} + d)$ for $C > 1$\n",
    "\n",
    "for the base case where $n = 1$\n",
    "\n",
    "$T(1) = 2T(\\lfloor \\frac{1}{2} \\rfloor) + 1 = 3$ assuming that $T(0) = 1$  \n",
    "$3 \\leq C (1 \\lg{1} + d)$ for any $C$ and $d$ s.t. $Cd > 3$. Surely the previous constraints that $C > 1$ and $d \\geq 1$ do not preclude us from making such a choice."
   ]
  },
  {
   "cell_type": "code",
   "execution_count": null,
   "metadata": {
    "collapsed": true
   },
   "outputs": [],
   "source": []
  }
 ],
 "metadata": {
  "kernelspec": {
   "display_name": "Python 2",
   "language": "python",
   "name": "python2"
  },
  "language_info": {
   "codemirror_mode": {
    "name": "ipython",
    "version": 2
   },
   "file_extension": ".py",
   "mimetype": "text/x-python",
   "name": "python",
   "nbconvert_exporter": "python",
   "pygments_lexer": "ipython2",
   "version": "2.7.12"
  }
 },
 "nbformat": 4,
 "nbformat_minor": 1
}
