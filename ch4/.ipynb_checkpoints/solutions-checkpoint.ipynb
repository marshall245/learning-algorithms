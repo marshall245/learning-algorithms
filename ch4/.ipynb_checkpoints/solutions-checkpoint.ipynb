{
 "cells": [
  {
   "cell_type": "markdown",
   "metadata": {},
   "source": [
    "# Chapter 4 Solutions"
   ]
  },
  {
   "cell_type": "markdown",
   "metadata": {},
   "source": [
    "#### 4.1-1\n",
    "\n",
    "The tuple (mid, mid + 1, A[mid] + A[mid + 1])"
   ]
  },
  {
   "cell_type": "markdown",
   "metadata": {},
   "source": [
    "4.1-2\n",
    "\n",
    ">maxsum = 0  \n",
    ">lb = 0  \n",
    ">ub = 0  \n",
    "\n",
    ">for i in 1 to n:  \n",
    ">    for j in 0 to i:  \n",
    ">        tmpsum = sum(A[j to i])  \n",
    ">        if tmpsum > maxsum:  \n",
    ">            lb = j, ub = i, maxsum = tmpsum  \n",
    "            \n",
    "// look for the monotonically non increasing case where lb == ub == 0"
   ]
  },
  {
   "cell_type": "markdown",
   "metadata": {},
   "source": [
    "#### 4.1-3"
   ]
  },
  {
   "cell_type": "code",
   "execution_count": 4,
   "metadata": {
    "collapsed": false
   },
   "outputs": [],
   "source": [
    "def max_subarray_bf(A):\n",
    "    \"\"\"A is of type list with inequalities and sums defined on the elemnets\"\"\"\n",
    "    maxsum = -2^64\n",
    "    lb = -1\n",
    "    ub = -1\n",
    "    N = len(A)\n",
    "    \n",
    "    for i in range(1, N + 1):\n",
    "        for j in range(i):\n",
    "            tmpsum = sum(A[j:i])\n",
    "            if tmpsum > maxsum:\n",
    "                maxsum = tmpsum\n",
    "                lb = j\n",
    "                ub = i\n",
    "    return lb, ub, maxsum"
   ]
  },
  {
   "cell_type": "code",
   "execution_count": 21,
   "metadata": {
    "collapsed": false
   },
   "outputs": [],
   "source": [
    "import math\n",
    "\n",
    "def max_crossing(A, l, m, u):\n",
    "    rollingsum = 0\n",
    "    lb = m\n",
    "    ub = m + 1\n",
    "    maxsum = A[lb]\n",
    "    \n",
    "    for i in range(m - l + 1):\n",
    "        rollingsum += A[m - i]\n",
    "        if  rollingsum >= maxsum:\n",
    "            maxsum = rollingsum\n",
    "            lb = m - i\n",
    "    totsum = maxsum\n",
    "    \n",
    "    rollingsum = 0\n",
    "    maxsum = A[ub]\n",
    "    for i in range(u - m):\n",
    "        rollingsum += A[m + 1 + i]\n",
    "        if rollingsum >= maxsum:\n",
    "            maxsum = rollingsum\n",
    "            ub = m + 1 + i\n",
    "    \n",
    "    return lb, ub + 1, totsum + maxsum\n",
    "\n",
    "def max_subarray(A, l=None, u=None):\n",
    "    if l is None:\n",
    "        l = 0\n",
    "    if u is None:\n",
    "        u = len(A) - 1\n",
    "    if l == u:\n",
    "        return l, u + 1, A[l]\n",
    "    mid = int(math.floor((l + u) / 2))\n",
    "    left_low, left_high, left_sum = max_subarray(A, l, mid)\n",
    "    right_low, right_high, right_sum = max_subarray(A, mid + 1, u)\n",
    "    cross_low, cross_high, cross_sum = max_crossing(A, l, mid, u)\n",
    "    \n",
    "    if (left_sum >= right_sum) and (left_sum >= cross_sum):\n",
    "        return left_low, left_high, left_sum\n",
    "    if (right_sum >= left_sum) and (right_sum >= cross_sum):\n",
    "        return right_low, right_high, right_sum\n",
    "    else:\n",
    "        return cross_low, cross_high, cross_sum"
   ]
  },
  {
   "cell_type": "code",
   "execution_count": 25,
   "metadata": {
    "collapsed": false
   },
   "outputs": [
    {
     "data": {
      "text/plain": [
       "(0, 1, 10)"
      ]
     },
     "execution_count": 25,
     "metadata": {},
     "output_type": "execute_result"
    }
   ],
   "source": [
    "max_subarray([1, 9, -4, 3])"
   ]
  },
  {
   "cell_type": "code",
   "execution_count": 14,
   "metadata": {
    "collapsed": false
   },
   "outputs": [
    {
     "name": "stdout",
     "output_type": "stream",
     "text": [
      "> \u001b[0;32m<ipython-input-11-fcfc87781c19>\u001b[0m(34)\u001b[0;36mmax_subarray\u001b[0;34m()\u001b[0m\n",
      "\u001b[0;32m     32 \u001b[0;31m        \u001b[0;32mreturn\u001b[0m \u001b[0mA\u001b[0m\u001b[0;34m[\u001b[0m\u001b[0ml\u001b[0m\u001b[0;34m]\u001b[0m\u001b[0;34m\u001b[0m\u001b[0m\n",
      "\u001b[0m\u001b[0;32m     33 \u001b[0;31m    \u001b[0mmid\u001b[0m \u001b[0;34m=\u001b[0m \u001b[0mmath\u001b[0m\u001b[0;34m.\u001b[0m\u001b[0mfloor\u001b[0m\u001b[0;34m(\u001b[0m\u001b[0;34m(\u001b[0m\u001b[0ml\u001b[0m \u001b[0;34m+\u001b[0m \u001b[0mu\u001b[0m\u001b[0;34m)\u001b[0m \u001b[0;34m/\u001b[0m \u001b[0;36m2\u001b[0m\u001b[0;34m)\u001b[0m\u001b[0;34m\u001b[0m\u001b[0m\n",
      "\u001b[0m\u001b[0;32m---> 34 \u001b[0;31m    \u001b[0mleft_low\u001b[0m\u001b[0;34m,\u001b[0m \u001b[0mleft_high\u001b[0m\u001b[0;34m,\u001b[0m \u001b[0mleft_sum\u001b[0m \u001b[0;34m=\u001b[0m \u001b[0mmax_subarray\u001b[0m\u001b[0;34m(\u001b[0m\u001b[0mA\u001b[0m\u001b[0;34m,\u001b[0m \u001b[0ml\u001b[0m\u001b[0;34m,\u001b[0m \u001b[0mmid\u001b[0m\u001b[0;34m)\u001b[0m\u001b[0;34m\u001b[0m\u001b[0m\n",
      "\u001b[0m\u001b[0;32m     35 \u001b[0;31m    \u001b[0mright_low\u001b[0m\u001b[0;34m,\u001b[0m \u001b[0mright_high\u001b[0m\u001b[0;34m,\u001b[0m \u001b[0mright_sum\u001b[0m \u001b[0;34m=\u001b[0m \u001b[0mmax_subarray\u001b[0m\u001b[0;34m(\u001b[0m\u001b[0mA\u001b[0m\u001b[0;34m,\u001b[0m \u001b[0mmid\u001b[0m \u001b[0;34m+\u001b[0m \u001b[0;36m1\u001b[0m\u001b[0;34m,\u001b[0m \u001b[0mu\u001b[0m\u001b[0;34m)\u001b[0m\u001b[0;34m\u001b[0m\u001b[0m\n",
      "\u001b[0m\u001b[0;32m     36 \u001b[0;31m    \u001b[0mcross_low\u001b[0m\u001b[0;34m,\u001b[0m \u001b[0mcross_high\u001b[0m\u001b[0;34m,\u001b[0m \u001b[0mcross_sum\u001b[0m \u001b[0;34m=\u001b[0m \u001b[0mmax_crossing\u001b[0m\u001b[0;34m(\u001b[0m\u001b[0mA\u001b[0m\u001b[0;34m,\u001b[0m \u001b[0ml\u001b[0m\u001b[0;34m,\u001b[0m \u001b[0mmid\u001b[0m\u001b[0;34m,\u001b[0m \u001b[0mu\u001b[0m\u001b[0;34m)\u001b[0m\u001b[0;34m\u001b[0m\u001b[0m\n",
      "\u001b[0m\n",
      "ipdb> left_low\n",
      "*** NameError: name 'left_low' is not defined\n",
      "ipdb> mid\n",
      "0.0\n",
      "ipdb> u\n",
      "1.0\n",
      "ipdb> left_low\n",
      "*** NameError: name 'left_low' is not defined\n",
      "ipdb> u\n",
      "1.0\n",
      "ipdb> up\n",
      "> \u001b[0;32m<ipython-input-11-fcfc87781c19>\u001b[0m(34)\u001b[0;36mmax_subarray\u001b[0;34m()\u001b[0m\n",
      "\u001b[0;32m     32 \u001b[0;31m        \u001b[0;32mreturn\u001b[0m \u001b[0mA\u001b[0m\u001b[0;34m[\u001b[0m\u001b[0ml\u001b[0m\u001b[0;34m]\u001b[0m\u001b[0;34m\u001b[0m\u001b[0m\n",
      "\u001b[0m\u001b[0;32m     33 \u001b[0;31m    \u001b[0mmid\u001b[0m \u001b[0;34m=\u001b[0m \u001b[0mmath\u001b[0m\u001b[0;34m.\u001b[0m\u001b[0mfloor\u001b[0m\u001b[0;34m(\u001b[0m\u001b[0;34m(\u001b[0m\u001b[0ml\u001b[0m \u001b[0;34m+\u001b[0m \u001b[0mu\u001b[0m\u001b[0;34m)\u001b[0m \u001b[0;34m/\u001b[0m \u001b[0;36m2\u001b[0m\u001b[0;34m)\u001b[0m\u001b[0;34m\u001b[0m\u001b[0m\n",
      "\u001b[0m\u001b[0;32m---> 34 \u001b[0;31m    \u001b[0mleft_low\u001b[0m\u001b[0;34m,\u001b[0m \u001b[0mleft_high\u001b[0m\u001b[0;34m,\u001b[0m \u001b[0mleft_sum\u001b[0m \u001b[0;34m=\u001b[0m \u001b[0mmax_subarray\u001b[0m\u001b[0;34m(\u001b[0m\u001b[0mA\u001b[0m\u001b[0;34m,\u001b[0m \u001b[0ml\u001b[0m\u001b[0;34m,\u001b[0m \u001b[0mmid\u001b[0m\u001b[0;34m)\u001b[0m\u001b[0;34m\u001b[0m\u001b[0m\n",
      "\u001b[0m\u001b[0;32m     35 \u001b[0;31m    \u001b[0mright_low\u001b[0m\u001b[0;34m,\u001b[0m \u001b[0mright_high\u001b[0m\u001b[0;34m,\u001b[0m \u001b[0mright_sum\u001b[0m \u001b[0;34m=\u001b[0m \u001b[0mmax_subarray\u001b[0m\u001b[0;34m(\u001b[0m\u001b[0mA\u001b[0m\u001b[0;34m,\u001b[0m \u001b[0mmid\u001b[0m \u001b[0;34m+\u001b[0m \u001b[0;36m1\u001b[0m\u001b[0;34m,\u001b[0m \u001b[0mu\u001b[0m\u001b[0;34m)\u001b[0m\u001b[0;34m\u001b[0m\u001b[0m\n",
      "\u001b[0m\u001b[0;32m     36 \u001b[0;31m    \u001b[0mcross_low\u001b[0m\u001b[0;34m,\u001b[0m \u001b[0mcross_high\u001b[0m\u001b[0;34m,\u001b[0m \u001b[0mcross_sum\u001b[0m \u001b[0;34m=\u001b[0m \u001b[0mmax_crossing\u001b[0m\u001b[0;34m(\u001b[0m\u001b[0mA\u001b[0m\u001b[0;34m,\u001b[0m \u001b[0ml\u001b[0m\u001b[0;34m,\u001b[0m \u001b[0mmid\u001b[0m\u001b[0;34m,\u001b[0m \u001b[0mu\u001b[0m\u001b[0;34m)\u001b[0m\u001b[0;34m\u001b[0m\u001b[0m\n",
      "\u001b[0m\n",
      "ipdb> left_low\n",
      "*** NameError: name 'left_low' is not defined\n",
      "ipdb> l\n",
      "0\n",
      "ipdb> mid\n",
      "1.0\n",
      "ipdb> q\n"
     ]
    }
   ],
   "source": [
    "%debug"
   ]
  },
  {
   "cell_type": "code",
   "execution_count": null,
   "metadata": {
    "collapsed": true
   },
   "outputs": [],
   "source": []
  }
 ],
 "metadata": {
  "kernelspec": {
   "display_name": "Python 2",
   "language": "python",
   "name": "python2"
  },
  "language_info": {
   "codemirror_mode": {
    "name": "ipython",
    "version": 2
   },
   "file_extension": ".py",
   "mimetype": "text/x-python",
   "name": "python",
   "nbconvert_exporter": "python",
   "pygments_lexer": "ipython2",
   "version": "2.7.12"
  }
 },
 "nbformat": 4,
 "nbformat_minor": 1
}
